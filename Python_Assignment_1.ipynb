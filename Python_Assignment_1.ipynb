{
  "nbformat": 4,
  "nbformat_minor": 0,
  "metadata": {
    "colab": {
      "name": "Python Assignment 1.ipynb",
      "provenance": [],
      "collapsed_sections": [],
      "authorship_tag": "ABX9TyNlI7gGXaBheFiDedbfLE9G",
      "include_colab_link": true
    },
    "kernelspec": {
      "name": "python3",
      "display_name": "Python 3"
    }
  },
  "cells": [
    {
      "cell_type": "markdown",
      "metadata": {
        "id": "view-in-github",
        "colab_type": "text"
      },
      "source": [
        "<a href=\"https://colab.research.google.com/github/simonelgarrad/Assignment/blob/main/Python_Assignment_1.ipynb\" target=\"_parent\"><img src=\"https://colab.research.google.com/assets/colab-badge.svg\" alt=\"Open In Colab\"/></a>"
      ]
    },
    {
      "cell_type": "markdown",
      "metadata": {
        "id": "Y8C9zebbJqDY"
      },
      "source": [
        "**Solution** **1**\r\n"
      ]
    },
    {
      "cell_type": "code",
      "metadata": {
        "colab": {
          "base_uri": "https://localhost:8080/"
        },
        "id": "ynfDykqzGKLF",
        "outputId": "b10c908a-423d-4757-ce46-001034057bbd"
      },
      "source": [
        "for i in range(2000,3201):\r\n",
        "  if(i % 7 ==0 and i % 5 !=0):\r\n",
        "   print(i,end=',')\r\n",
        "  else:\r\n",
        "    continue\r\n"
      ],
      "execution_count": 6,
      "outputs": [
        {
          "output_type": "stream",
          "text": [
            "2002,2009,2016,2023,2037,2044,2051,2058,2072,2079,2086,2093,2107,2114,2121,2128,2142,2149,2156,2163,2177,2184,2191,2198,2212,2219,2226,2233,2247,2254,2261,2268,2282,2289,2296,2303,2317,2324,2331,2338,2352,2359,2366,2373,2387,2394,2401,2408,2422,2429,2436,2443,2457,2464,2471,2478,2492,2499,2506,2513,2527,2534,2541,2548,2562,2569,2576,2583,2597,2604,2611,2618,2632,2639,2646,2653,2667,2674,2681,2688,2702,2709,2716,2723,2737,2744,2751,2758,2772,2779,2786,2793,2807,2814,2821,2828,2842,2849,2856,2863,2877,2884,2891,2898,2912,2919,2926,2933,2947,2954,2961,2968,2982,2989,2996,3003,3017,3024,3031,3038,3052,3059,3066,3073,3087,3094,3101,3108,3122,3129,3136,3143,3157,3164,3171,3178,3192,3199,"
          ],
          "name": "stdout"
        }
      ]
    },
    {
      "cell_type": "markdown",
      "metadata": {
        "id": "NIF68UXTKDtR"
      },
      "source": [
        "**Solution 2**"
      ]
    },
    {
      "cell_type": "code",
      "metadata": {
        "colab": {
          "base_uri": "https://localhost:8080/"
        },
        "id": "d051IIWeKKAf",
        "outputId": "ac94b391-25b6-4e4c-e89f-0d902da0048a"
      },
      "source": [
        "print(\"Enter first name here\")\r\n",
        "a=input()\r\n",
        "print(\"Enter last name here\")\r\n",
        "b=input()"
      ],
      "execution_count": 30,
      "outputs": [
        {
          "output_type": "stream",
          "text": [
            "Enter first name here\n",
            "Martina\n",
            "Enter last name here\n",
            "Makao\n"
          ],
          "name": "stdout"
        }
      ]
    },
    {
      "cell_type": "code",
      "metadata": {
        "colab": {
          "base_uri": "https://localhost:8080/"
        },
        "id": "WMkNi_WJK2w2",
        "outputId": "7dfe41fa-77f0-4ccd-95c9-365793ccbe39"
      },
      "source": [
        "name=list([a,b])\r\n",
        "print(name)"
      ],
      "execution_count": 31,
      "outputs": [
        {
          "output_type": "stream",
          "text": [
            "['Martina', 'Makao']\n"
          ],
          "name": "stdout"
        }
      ]
    },
    {
      "cell_type": "code",
      "metadata": {
        "colab": {
          "base_uri": "https://localhost:8080/"
        },
        "id": "ko64ECHjMa-x",
        "outputId": "de48e0d2-eb3c-4f92-9e5b-d549f821681a"
      },
      "source": [
        "for i in name[::-1]:\r\n",
        "  print(i,end=' ')\r\n",
        "  "
      ],
      "execution_count": 32,
      "outputs": [
        {
          "output_type": "stream",
          "text": [
            "Makao Martina "
          ],
          "name": "stdout"
        }
      ]
    },
    {
      "cell_type": "markdown",
      "metadata": {
        "id": "3OLbl_UrOdUL"
      },
      "source": [
        "Solution **3**"
      ]
    },
    {
      "cell_type": "code",
      "metadata": {
        "colab": {
          "base_uri": "https://localhost:8080/"
        },
        "id": "FZVPwtRrOcxi",
        "outputId": "1b41d21c-303d-44da-8e5f-59b38fc27e19"
      },
      "source": [
        "d=12\r\n",
        "r=d/2\r\n",
        "print(\"Volume of the sphere is\",((4/3)*3.14*(r**3)))"
      ],
      "execution_count": 33,
      "outputs": [
        {
          "output_type": "stream",
          "text": [
            "Volume of the sphere is 904.3199999999999\n"
          ],
          "name": "stdout"
        }
      ]
    }
  ]
}