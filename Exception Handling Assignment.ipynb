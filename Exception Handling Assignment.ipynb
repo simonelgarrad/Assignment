{
  "nbformat": 4,
  "nbformat_minor": 0,
  "metadata": {
    "colab": {
      "name": "Untitled0.ipynb",
      "provenance": [],
      "authorship_tag": "ABX9TyP3swzbHbB8lD+/rSjHXZOu",
      "include_colab_link": true
    },
    "kernelspec": {
      "name": "python3",
      "display_name": "Python 3"
    }
  },
  "cells": [
    {
      "cell_type": "markdown",
      "metadata": {
        "id": "view-in-github",
        "colab_type": "text"
      },
      "source": [
        "<a href=\"https://colab.research.google.com/github/simonelgarrad/Assignment/blob/main/Exception%20Handling%20Assignment.ipynb\" target=\"_parent\"><img src=\"https://colab.research.google.com/assets/colab-badge.svg\" alt=\"Open In Colab\"/></a>"
      ]
    },
    {
      "cell_type": "markdown",
      "metadata": {
        "id": "ueDDWBIRTTZf"
      },
      "source": [
        "Write a function to compute 5/0 and use try and except to catch the exceptions "
      ]
    },
    {
      "cell_type": "code",
      "metadata": {
        "colab": {
          "base_uri": "https://localhost:8080/"
        },
        "id": "RXGS2y8tTQCF",
        "outputId": "38211595-db45-4a46-e603-573ca3df7d15"
      },
      "source": [
        "try:\r\n",
        "  a=int(input())\r\n",
        "  b=0\r\n",
        "  div=a/b\r\n",
        "  print(div)\r\n",
        "except Exception as e:\r\n",
        "  print(\"This is not defined\",e)"
      ],
      "execution_count": 1,
      "outputs": [
        {
          "output_type": "stream",
          "text": [
            "5\n",
            "This is not defined division by zero\n"
          ],
          "name": "stdout"
        }
      ]
    },
    {
      "cell_type": "markdown",
      "metadata": {
        "id": "0roWuCLfXzth"
      },
      "source": [
        "2. Implement a Python program to generate all sentences where subject is in\r\n",
        "[\"Americans\", \"Indians\"] and verb is in [\"Play\", \"watch\"] and the object is in\r\n",
        "[\"Baseball\",\"cricket\"].\r\n",
        "Hint: Subject,Verb and Object should be declared in the program as shown below.\r\n",
        "subjects=[\"Americans \",\"Indians\"]\r\n",
        "verbs=[\"play\",\"watch\"]\r\n",
        "objects=[\"Baseball\",\"Cricket\"]"
      ]
    },
    {
      "cell_type": "code",
      "metadata": {
        "colab": {
          "base_uri": "https://localhost:8080/"
        },
        "id": "pfYh-HYPT1TH",
        "outputId": "be79703c-40b7-4973-9d56-790d9056f100"
      },
      "source": [
        "subjects=[\"Americans\",\"Indians\"]\r\n",
        "verb=[\"play\",\"watch\"]\r\n",
        "objects=[\"Baseball\",\"Cricket\"]\r\n",
        "\r\n",
        "for i in subjects:\r\n",
        "  for j in verb:\r\n",
        "    for k in objects:\r\n",
        "      print(i+\" \"+j+\" \"+k)"
      ],
      "execution_count": 5,
      "outputs": [
        {
          "output_type": "stream",
          "text": [
            "Americans play Baseball\n",
            "Americans play Cricket\n",
            "Americans watch Baseball\n",
            "Americans watch Cricket\n",
            "Indians play Baseball\n",
            "Indians play Cricket\n",
            "Indians watch Baseball\n",
            "Indians watch Cricket\n"
          ],
          "name": "stdout"
        }
      ]
    },
    {
      "cell_type": "code",
      "metadata": {
        "id": "jur-woD1Xe5H"
      },
      "source": [
        ""
      ],
      "execution_count": null,
      "outputs": []
    }
  ]
}